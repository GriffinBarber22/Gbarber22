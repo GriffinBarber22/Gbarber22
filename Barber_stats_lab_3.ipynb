{
  "nbformat": 4,
  "nbformat_minor": 0,
  "metadata": {
    "colab": {
      "provenance": [],
      "authorship_tag": "ABX9TyN4Q3P7LPTE7tMDvLAFIxyb",
      "include_colab_link": true
    },
    "kernelspec": {
      "name": "python3",
      "display_name": "Python 3"
    },
    "language_info": {
      "name": "python"
    }
  },
  "cells": [
    {
      "cell_type": "markdown",
      "metadata": {
        "id": "view-in-github",
        "colab_type": "text"
      },
      "source": [
        "<a href=\"https://colab.research.google.com/github/GriffinBarber22/Gbarber22/blob/main/Barber_stats_lab_3.ipynb\" target=\"_parent\"><img src=\"https://colab.research.google.com/assets/colab-badge.svg\" alt=\"Open In Colab\"/></a>"
      ]
    },
    {
      "cell_type": "code",
      "execution_count": 6,
      "metadata": {
        "colab": {
          "base_uri": "https://localhost:8080/"
        },
        "id": "yQOBLvl4-r-2",
        "outputId": "63c729d1-94e6-4be0-fc81-e34b7f650fa7"
      },
      "outputs": [
        {
          "output_type": "stream",
          "name": "stdout",
          "text": [
            "0\n",
            "1\n",
            "2\n",
            "3\n",
            "4\n",
            "5\n",
            "6\n",
            "7\n",
            "8\n",
            "9\n"
          ]
        }
      ],
      "source": [
        "for i in range(10):\n",
        " print(i)"
      ]
    },
    {
      "cell_type": "code",
      "source": [
        "for i in range(5,8):\n",
        " print(i)"
      ],
      "metadata": {
        "colab": {
          "base_uri": "https://localhost:8080/"
        },
        "id": "c9tP4B_B-0tf",
        "outputId": "6e6bdccf-3f5e-40b2-bed4-94b7a3a4808d"
      },
      "execution_count": 7,
      "outputs": [
        {
          "output_type": "stream",
          "name": "stdout",
          "text": [
            "5\n",
            "6\n",
            "7\n"
          ]
        }
      ]
    },
    {
      "cell_type": "code",
      "source": [
        "for i in range(3):\n",
        "  print(\"Test Number: \",i)"
      ],
      "metadata": {
        "colab": {
          "base_uri": "https://localhost:8080/"
        },
        "id": "WowMSGpY-6B3",
        "outputId": "f88200ea-3753-428d-95a9-dc967d08ca77"
      },
      "execution_count": 8,
      "outputs": [
        {
          "output_type": "stream",
          "name": "stdout",
          "text": [
            "Test Number:  0\n",
            "Test Number:  1\n",
            "Test Number:  2\n"
          ]
        }
      ]
    },
    {
      "cell_type": "markdown",
      "source": [
        "#Functions"
      ],
      "metadata": {
        "id": "Wf26yDVN_fXX"
      }
    },
    {
      "cell_type": "code",
      "source": [
        "def square(x):\n",
        "  return x**2"
      ],
      "metadata": {
        "id": "jMyskXyx_jba"
      },
      "execution_count": 9,
      "outputs": []
    },
    {
      "cell_type": "code",
      "source": [
        "square(5)"
      ],
      "metadata": {
        "colab": {
          "base_uri": "https://localhost:8080/"
        },
        "id": "ZqQrewS5_pq6",
        "outputId": "b976a6b9-6ee0-4507-a133-500aa5564fa8"
      },
      "execution_count": 10,
      "outputs": [
        {
          "output_type": "execute_result",
          "data": {
            "text/plain": [
              "25"
            ]
          },
          "metadata": {},
          "execution_count": 10
        }
      ]
    },
    {
      "cell_type": "code",
      "source": [
        "square(square(5))"
      ],
      "metadata": {
        "colab": {
          "base_uri": "https://localhost:8080/"
        },
        "id": "MgrYz2r5_sHq",
        "outputId": "699d7338-57c3-4343-8922-8d1759f117f1"
      },
      "execution_count": 11,
      "outputs": [
        {
          "output_type": "execute_result",
          "data": {
            "text/plain": [
              "625"
            ]
          },
          "metadata": {},
          "execution_count": 11
        }
      ]
    },
    {
      "cell_type": "code",
      "source": [
        "def add_two(x):\n",
        "  return x+2"
      ],
      "metadata": {
        "id": "r_VzjSTZ_0pW"
      },
      "execution_count": 12,
      "outputs": []
    },
    {
      "cell_type": "code",
      "source": [
        "add_two(5)"
      ],
      "metadata": {
        "colab": {
          "base_uri": "https://localhost:8080/"
        },
        "id": "7LwSDIi5AY3n",
        "outputId": "825ce510-36a4-40a2-f87c-21a754bccc53"
      },
      "execution_count": 13,
      "outputs": [
        {
          "output_type": "execute_result",
          "data": {
            "text/plain": [
              "7"
            ]
          },
          "metadata": {},
          "execution_count": 13
        }
      ]
    },
    {
      "cell_type": "code",
      "source": [
        "square(add_two(345))"
      ],
      "metadata": {
        "colab": {
          "base_uri": "https://localhost:8080/"
        },
        "id": "kuBd6oq_Aa4H",
        "outputId": "20417270-dfae-4073-e2c1-e39d9c1f1474"
      },
      "execution_count": 14,
      "outputs": [
        {
          "output_type": "execute_result",
          "data": {
            "text/plain": [
              "120409"
            ]
          },
          "metadata": {},
          "execution_count": 14
        }
      ]
    },
    {
      "cell_type": "code",
      "source": [
        "choice = \"apple\""
      ],
      "metadata": {
        "id": "sPgVoV9vAiOn"
      },
      "execution_count": 15,
      "outputs": []
    },
    {
      "cell_type": "code",
      "source": [
        "if choice == \"apple\":\n",
        " print(\"You choose apples.\")\n",
        "\n",
        "else:\n",
        "  print(\"You did not choose apples.\")"
      ],
      "metadata": {
        "colab": {
          "base_uri": "https://localhost:8080/"
        },
        "id": "SsQhbF3uAmpH",
        "outputId": "d6b8ba3a-3555-405a-f4e4-148332e7b46a"
      },
      "execution_count": 17,
      "outputs": [
        {
          "output_type": "stream",
          "name": "stdout",
          "text": [
            "You choose apples.\n"
          ]
        }
      ]
    },
    {
      "cell_type": "code",
      "source": [
        "if choice == \"apple\":\n",
        "  print(\"You choose apples.\")\n",
        "  print(\"thank you, shop again!\")\n",
        "elif choice == \"orange\":\n",
        "  print(\"You choose oranges.\")\n",
        "  print(\"thank you, shop again!\")\n",
        "else:\n",
        "  print(\"You did not choose apples or oranges.\")\n",
        "  print(\"thank you, shop again!\")"
      ],
      "metadata": {
        "colab": {
          "base_uri": "https://localhost:8080/"
        },
        "id": "ayHlCk0QA7TY",
        "outputId": "8f2851bc-7976-4602-b378-b482ee808b95"
      },
      "execution_count": 19,
      "outputs": [
        {
          "output_type": "stream",
          "name": "stdout",
          "text": [
            "You choose apples.\n",
            "thank you, shop again!\n"
          ]
        }
      ]
    },
    {
      "cell_type": "code",
      "source": [
        "choice = input(\"Please enter your choice (i.e. apple):\")"
      ],
      "metadata": {
        "colab": {
          "base_uri": "https://localhost:8080/"
        },
        "id": "anQ30W41Bdt5",
        "outputId": "d42174be-3fce-478b-c277-dc184ae44607"
      },
      "execution_count": 20,
      "outputs": [
        {
          "name": "stdout",
          "output_type": "stream",
          "text": [
            "Please enter your choice (i.e. apple):pear\n"
          ]
        }
      ]
    },
    {
      "cell_type": "code",
      "source": [
        "choice"
      ],
      "metadata": {
        "colab": {
          "base_uri": "https://localhost:8080/",
          "height": 35
        },
        "id": "JFEUXE1GCUyp",
        "outputId": "174150db-3ff7-419b-fc12-a7550ef2c71a"
      },
      "execution_count": 21,
      "outputs": [
        {
          "output_type": "execute_result",
          "data": {
            "text/plain": [
              "'pear'"
            ],
            "application/vnd.google.colaboratory.intrinsic+json": {
              "type": "string"
            }
          },
          "metadata": {},
          "execution_count": 21
        }
      ]
    },
    {
      "cell_type": "code",
      "source": [
        "if choice == \"apple\":\n",
        "  print(\"You choose apples.\")\n",
        "  \n",
        "elif choice == \"orange\":\n",
        "  print(\"You choose oranges.\")\n",
        "  \n",
        "else:\n",
        "  print(\"You did not choose apples or oranges.\")\n"
      ],
      "metadata": {
        "colab": {
          "base_uri": "https://localhost:8080/"
        },
        "id": "_ROMIru-CawK",
        "outputId": "2ef7ef8c-daa9-4f59-b03e-91748215c1cc"
      },
      "execution_count": 22,
      "outputs": [
        {
          "output_type": "stream",
          "name": "stdout",
          "text": [
            "You did not choose apples or oranges.\n"
          ]
        }
      ]
    },
    {
      "cell_type": "code",
      "source": [
        "import numpy as np"
      ],
      "metadata": {
        "id": "0QHMS0iVDF2p"
      },
      "execution_count": 24,
      "outputs": []
    },
    {
      "cell_type": "code",
      "source": [
        "np.random.permutation(52)"
      ],
      "metadata": {
        "colab": {
          "base_uri": "https://localhost:8080/"
        },
        "id": "LNNVNidCCqWJ",
        "outputId": "3c81fe91-831e-440d-df18-cc0da2ff9b28"
      },
      "execution_count": 25,
      "outputs": [
        {
          "output_type": "execute_result",
          "data": {
            "text/plain": [
              "array([ 9,  4, 44, 29, 34, 26, 19, 15,  0, 11, 13, 33, 49, 43, 48,  6, 51,\n",
              "       27, 24, 35,  7, 28, 45, 46, 30, 20,  1,  5, 17, 23, 38, 41, 37, 25,\n",
              "       22, 47, 50, 31, 16, 18, 40, 14, 32, 12, 42, 39, 10,  3,  8, 21,  2,\n",
              "       36])"
            ]
          },
          "metadata": {},
          "execution_count": 25
        }
      ]
    },
    {
      "cell_type": "code",
      "source": [
        "cards = np.random.permutation(52)"
      ],
      "metadata": {
        "id": "ytHDpKwODE_Z"
      },
      "execution_count": 26,
      "outputs": []
    },
    {
      "cell_type": "code",
      "source": [
        "cards"
      ],
      "metadata": {
        "colab": {
          "base_uri": "https://localhost:8080/"
        },
        "id": "YVym-4UADiAx",
        "outputId": "9857d18a-c651-415c-8a5f-88476aea11b1"
      },
      "execution_count": 27,
      "outputs": [
        {
          "output_type": "execute_result",
          "data": {
            "text/plain": [
              "array([ 8, 14, 46,  6, 11,  4, 24,  7, 31, 25, 32, 34, 44,  2,  9, 19, 28,\n",
              "        1, 29, 26, 12, 13, 49, 38, 33, 42, 43, 50, 45, 21, 48, 17, 40,  3,\n",
              "       16,  5, 36, 15, 20, 41, 22, 27,  0, 23, 39, 37, 35, 10, 30, 47, 18,\n",
              "       51])"
            ]
          },
          "metadata": {},
          "execution_count": 27
        }
      ]
    },
    {
      "cell_type": "code",
      "source": [
        "cards[0]"
      ],
      "metadata": {
        "colab": {
          "base_uri": "https://localhost:8080/"
        },
        "id": "8WLoIES1DjCh",
        "outputId": "f9c8c58c-2d88-4147-ccfa-5471870c5609"
      },
      "execution_count": 28,
      "outputs": [
        {
          "output_type": "execute_result",
          "data": {
            "text/plain": [
              "8"
            ]
          },
          "metadata": {},
          "execution_count": 28
        }
      ]
    },
    {
      "cell_type": "markdown",
      "source": [
        "<img src='http://www.milefoot.com/math/discrete/counting/image/cards.png'>"
      ],
      "metadata": {
        "id": "cNwGQBn6DyJB"
      }
    },
    {
      "cell_type": "code",
      "source": [
        "np.arange(52).reshape(4,13)"
      ],
      "metadata": {
        "colab": {
          "base_uri": "https://localhost:8080/"
        },
        "id": "N17hfl-dEDZq",
        "outputId": "9e75a769-e7a8-4df1-ee34-c8101f50d085"
      },
      "execution_count": 29,
      "outputs": [
        {
          "output_type": "execute_result",
          "data": {
            "text/plain": [
              "array([[ 0,  1,  2,  3,  4,  5,  6,  7,  8,  9, 10, 11, 12],\n",
              "       [13, 14, 15, 16, 17, 18, 19, 20, 21, 22, 23, 24, 25],\n",
              "       [26, 27, 28, 29, 30, 31, 32, 33, 34, 35, 36, 37, 38],\n",
              "       [39, 40, 41, 42, 43, 44, 45, 46, 47, 48, 49, 50, 51]])"
            ]
          },
          "metadata": {},
          "execution_count": 29
        }
      ]
    },
    {
      "cell_type": "code",
      "source": [
        "np.arange(52).reshape(4,13)%13"
      ],
      "metadata": {
        "colab": {
          "base_uri": "https://localhost:8080/"
        },
        "id": "bFEQPm7QErDq",
        "outputId": "24d98826-7273-4b58-b96e-64f98f4dfcb0"
      },
      "execution_count": 30,
      "outputs": [
        {
          "output_type": "execute_result",
          "data": {
            "text/plain": [
              "array([[ 0,  1,  2,  3,  4,  5,  6,  7,  8,  9, 10, 11, 12],\n",
              "       [ 0,  1,  2,  3,  4,  5,  6,  7,  8,  9, 10, 11, 12],\n",
              "       [ 0,  1,  2,  3,  4,  5,  6,  7,  8,  9, 10, 11, 12],\n",
              "       [ 0,  1,  2,  3,  4,  5,  6,  7,  8,  9, 10, 11, 12]])"
            ]
          },
          "metadata": {},
          "execution_count": 30
        }
      ]
    },
    {
      "cell_type": "code",
      "source": [
        "np.arange(52).reshape(4,13)//13"
      ],
      "metadata": {
        "colab": {
          "base_uri": "https://localhost:8080/"
        },
        "id": "HhQVksqjFSMr",
        "outputId": "381371fb-2ca0-41cd-a48c-e4a44724268a"
      },
      "execution_count": 31,
      "outputs": [
        {
          "output_type": "execute_result",
          "data": {
            "text/plain": [
              "array([[0, 0, 0, 0, 0, 0, 0, 0, 0, 0, 0, 0, 0],\n",
              "       [1, 1, 1, 1, 1, 1, 1, 1, 1, 1, 1, 1, 1],\n",
              "       [2, 2, 2, 2, 2, 2, 2, 2, 2, 2, 2, 2, 2],\n",
              "       [3, 3, 3, 3, 3, 3, 3, 3, 3, 3, 3, 3, 3]])"
            ]
          },
          "metadata": {},
          "execution_count": 31
        }
      ]
    },
    {
      "cell_type": "code",
      "source": [
        "suits = ['Clubs','Spades','Hearts','Diamonds']\n",
        "names = ['Ace','Two','three','Four','Five','Six','Seven','Eight','Nine','Ten','Jack','Queen','King']"
      ],
      "metadata": {
        "id": "q9kNRPy9FiKL"
      },
      "execution_count": 32,
      "outputs": []
    },
    {
      "cell_type": "code",
      "source": [
        "def card_names(card_number):\n",
        "  suit = card_number//13\n",
        "  name = card_number%13\n",
        "  return names[name] + \" of \" + suits[suit]"
      ],
      "metadata": {
        "id": "DeECA_2lGY-c"
      },
      "execution_count": 35,
      "outputs": []
    },
    {
      "cell_type": "code",
      "source": [
        "card_names(51)"
      ],
      "metadata": {
        "colab": {
          "base_uri": "https://localhost:8080/",
          "height": 35
        },
        "id": "_7NGS2cDG3XM",
        "outputId": "72f09e46-4799-433d-de9f-5b81e9a60c0d"
      },
      "execution_count": 37,
      "outputs": [
        {
          "output_type": "execute_result",
          "data": {
            "text/plain": [
              "'King of Diamonds'"
            ],
            "application/vnd.google.colaboratory.intrinsic+json": {
              "type": "string"
            }
          },
          "metadata": {},
          "execution_count": 37
        }
      ]
    },
    {
      "cell_type": "code",
      "source": [
        "card_names(13)"
      ],
      "metadata": {
        "colab": {
          "base_uri": "https://localhost:8080/",
          "height": 35
        },
        "id": "GvZdTaJcG6Ks",
        "outputId": "c2100daf-280a-49e3-9f4e-b3a94aa40372"
      },
      "execution_count": 38,
      "outputs": [
        {
          "output_type": "execute_result",
          "data": {
            "text/plain": [
              "'Ace of Spades'"
            ],
            "application/vnd.google.colaboratory.intrinsic+json": {
              "type": "string"
            }
          },
          "metadata": {},
          "execution_count": 38
        }
      ]
    },
    {
      "cell_type": "code",
      "source": [
        "cards = np.random.permutation(52)"
      ],
      "metadata": {
        "id": "lGXyaX8iHKAb"
      },
      "execution_count": 39,
      "outputs": []
    },
    {
      "cell_type": "code",
      "source": [
        "top_of_deck         = card_names(cards[0])\n",
        "second_card_in_deck = card_names(cards[1])\n",
        "last_card_in_deck   = card_names(cards[-1])"
      ],
      "metadata": {
        "id": "vDFxagwGIFSM"
      },
      "execution_count": 42,
      "outputs": []
    },
    {
      "cell_type": "code",
      "source": [
        "top_of_deck,second_card_in_deck,last_card_in_deck"
      ],
      "metadata": {
        "colab": {
          "base_uri": "https://localhost:8080/"
        },
        "id": "IK7r2CoXIgV-",
        "outputId": "9102d870-25c1-4e99-bc8b-645951100361"
      },
      "execution_count": 43,
      "outputs": [
        {
          "output_type": "execute_result",
          "data": {
            "text/plain": [
              "('Queen of Diamonds', 'Nine of Clubs', 'Seven of Hearts')"
            ]
          },
          "metadata": {},
          "execution_count": 43
        }
      ]
    },
    {
      "cell_type": "code",
      "source": [
        "for i in range(5):\n",
        "  print(card_names(cards[i]))"
      ],
      "metadata": {
        "colab": {
          "base_uri": "https://localhost:8080/"
        },
        "id": "LKSQlUc-I5Ou",
        "outputId": "496884d7-5a37-4175-edd7-74db478ad6c4"
      },
      "execution_count": 45,
      "outputs": [
        {
          "output_type": "stream",
          "name": "stdout",
          "text": [
            "Queen of Diamonds\n",
            "Nine of Clubs\n",
            "Ace of Hearts\n",
            "three of Diamonds\n",
            "King of Clubs\n"
          ]
        }
      ]
    },
    {
      "cell_type": "code",
      "source": [
        "card_url_head = \"https://www.improvemagic.com/wp-content/uploads/2020/11/\"\n",
        "card_url_tail = \".png\""
      ],
      "metadata": {
        "id": "oMni2gkZJD2_"
      },
      "execution_count": 46,
      "outputs": []
    },
    {
      "cell_type": "code",
      "source": [
        "suit = ['k','p','s','1']\n",
        "card = ['a','2','3','4','5','6','7','8','9','10','j','q','k']"
      ],
      "metadata": {
        "id": "a8IJp2fdJz2g"
      },
      "execution_count": 47,
      "outputs": []
    },
    {
      "cell_type": "code",
      "source": [
        "i = np.random.randint(4)\n",
        "j = np.random.randint(13)"
      ],
      "metadata": {
        "id": "ep_QbQaRKeTX"
      },
      "execution_count": 48,
      "outputs": []
    },
    {
      "cell_type": "code",
      "source": [
        "i,j"
      ],
      "metadata": {
        "colab": {
          "base_uri": "https://localhost:8080/"
        },
        "id": "Pi3HT4XhKyLQ",
        "outputId": "dadac0e4-c87f-4e95-a34f-be2d6004dcfd"
      },
      "execution_count": 49,
      "outputs": [
        {
          "output_type": "execute_result",
          "data": {
            "text/plain": [
              "(2, 10)"
            ]
          },
          "metadata": {},
          "execution_count": 49
        }
      ]
    },
    {
      "cell_type": "code",
      "source": [
        "card[i]"
      ],
      "metadata": {
        "colab": {
          "base_uri": "https://localhost:8080/",
          "height": 35
        },
        "id": "-nd5g4EoK2Vg",
        "outputId": "113caef7-0c48-4509-9f81-035a949c8d1c"
      },
      "execution_count": 50,
      "outputs": [
        {
          "output_type": "execute_result",
          "data": {
            "text/plain": [
              "'3'"
            ],
            "application/vnd.google.colaboratory.intrinsic+json": {
              "type": "string"
            }
          },
          "metadata": {},
          "execution_count": 50
        }
      ]
    },
    {
      "cell_type": "code",
      "source": [
        "card[j]"
      ],
      "metadata": {
        "colab": {
          "base_uri": "https://localhost:8080/",
          "height": 35
        },
        "id": "3y65oZz-K5Gw",
        "outputId": "61de44bc-edc8-4b8b-ec9a-bdf763471578"
      },
      "execution_count": 51,
      "outputs": [
        {
          "output_type": "execute_result",
          "data": {
            "text/plain": [
              "'j'"
            ],
            "application/vnd.google.colaboratory.intrinsic+json": {
              "type": "string"
            }
          },
          "metadata": {},
          "execution_count": 51
        }
      ]
    },
    {
      "cell_type": "code",
      "source": [
        "from IPython.core.display import display, HTML"
      ],
      "metadata": {
        "id": "RFYO-dpfK-sR"
      },
      "execution_count": 52,
      "outputs": []
    },
    {
      "cell_type": "code",
      "source": [
        "def show_img(img):\n",
        "  display(HTML('<img src=' + img + '>'))"
      ],
      "metadata": {
        "id": "RVhmkzbPK6TQ"
      },
      "execution_count": 53,
      "outputs": []
    },
    {
      "cell_type": "code",
      "source": [
        "img = card_url_head + suit[i] + card[j] + card_url_tail"
      ],
      "metadata": {
        "id": "tkNm-2dLLYfB"
      },
      "execution_count": 54,
      "outputs": []
    },
    {
      "cell_type": "code",
      "source": [
        "show_img(img)"
      ],
      "metadata": {
        "colab": {
          "base_uri": "https://localhost:8080/",
          "height": 333
        },
        "id": "TZYXiJnqLnFM",
        "outputId": "2108385a-b672-4d88-e3db-3d121e125d88"
      },
      "execution_count": 55,
      "outputs": [
        {
          "output_type": "display_data",
          "data": {
            "text/plain": [
              "<IPython.core.display.HTML object>"
            ],
            "text/html": [
              "<img src=https://www.improvemagic.com/wp-content/uploads/2020/11/sj.png>"
            ]
          },
          "metadata": {}
        }
      ]
    },
    {
      "cell_type": "code",
      "source": [],
      "metadata": {
        "id": "GY65MV6tLqGs"
      },
      "execution_count": null,
      "outputs": []
    }
  ]
}